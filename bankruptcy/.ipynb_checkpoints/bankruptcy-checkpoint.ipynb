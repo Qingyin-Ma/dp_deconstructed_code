{
 "cells": [
  {
   "cell_type": "markdown",
   "metadata": {},
   "source": [
    "## Comparative Timings for the Bankruptcy Model\n",
    "\n",
    "The value of repaying one's debts, $v^R$, satisfies the \n",
    "Bellman equation\n",
    "\n",
    "\\begin{equation*}\n",
    "\tv^R (d,z, \\eta, \\kappa) = \\max_{c, \\, d'}\n",
    "\t\\left[\n",
    "\tu(c) + \\beta E_{z', \\eta', \\kappa' \\mid z} \\max \n",
    "\t\\left\\{\n",
    "\tv^R (d', z', \\eta', \\kappa'), \\, v^B (z', \\eta')\n",
    "\t\\right\\}\n",
    "\t\\right]\n",
    "\\end{equation*}\n",
    "\n",
    "subject to $c + d + \\kappa \\leq \\bar{e} z \\eta + q (z) d'$.\n",
    "\n",
    "Here $v^B$ is the value of declaring bankruptcy, which satisfies\n",
    "\n",
    "\\begin{equation*}\n",
    "\tv^B (z, \\eta) = u(c) + \n",
    "\t\\beta E_{z', \\eta', \\kappa' \\mid z} \\max \n",
    "\t\\left\\{ \n",
    "\tv^R (0, z', \\eta', \\kappa'), \\, v^E (z', \\eta', \\kappa')\n",
    "\t\\right\\}\n",
    "\\end{equation*}\n",
    "\n",
    "subject to \n",
    "\n",
    "$$ c = \\hat c := (1 - \\gamma) \\bar{e} z \\eta . $$ \n",
    "\n",
    "Finally, $v^E$ is the value of defaulting on expense debt, which satisfies \n",
    "\n",
    "\\begin{equation*}\n",
    "\tv^E (z, \\eta, \\kappa) = u (c ) + \n",
    "\t\\beta E_{z', \\eta', \\kappa' \\mid z} \\max \n",
    "\t\\left\\{\n",
    "\tv^R (d', z', \\eta', \\kappa'), \\, v^B (z', \\eta')\n",
    "\t\\right\\}\n",
    "\\end{equation*}\n",
    "\n",
    "subject to \n",
    "\n",
    "$$ \n",
    "    c = \\hat c\n",
    "   \\quad \\text{and} \\quad\n",
    "   d' = \\hat d := (\\kappa - \\gamma \\bar{e} z \\eta) (1 + \\bar{r}) \n",
    "   .\n",
    "$$"
   ]
  },
  {
   "cell_type": "markdown",
   "metadata": {},
   "source": [
    "### Set Up and Parameters"
   ]
  },
  {
   "cell_type": "code",
   "execution_count": 65,
   "metadata": {},
   "outputs": [],
   "source": [
    "import numpy as np\n",
    "import quantecon as qe\n",
    "from numba import njit"
   ]
  },
  {
   "cell_type": "code",
   "execution_count": 84,
   "metadata": {},
   "outputs": [],
   "source": [
    "z_size = 10\n",
    "kappa_size = 10\n",
    "eta_size = 10\n",
    "d_size = 10"
   ]
  },
  {
   "cell_type": "code",
   "execution_count": 85,
   "metadata": {},
   "outputs": [],
   "source": [
    "d_max = 10\n",
    "d_grid = np.linspace(0, d_max, d_size)"
   ]
  },
  {
   "cell_type": "code",
   "execution_count": 86,
   "metadata": {},
   "outputs": [],
   "source": [
    "mc = qe.tauchen(0.9, 0.1, n=z_size)"
   ]
  },
  {
   "cell_type": "code",
   "execution_count": 87,
   "metadata": {},
   "outputs": [],
   "source": [
    "P = mc.P"
   ]
  },
  {
   "cell_type": "code",
   "execution_count": 88,
   "metadata": {},
   "outputs": [],
   "source": [
    "z_grid = np.exp(mc.state_values)"
   ]
  },
  {
   "cell_type": "code",
   "execution_count": 89,
   "metadata": {},
   "outputs": [
    {
     "data": {
      "text/plain": [
       "0.5024560017385318"
      ]
     },
     "execution_count": 89,
     "metadata": {},
     "output_type": "execute_result"
    }
   ],
   "source": [
    "z_grid.min()"
   ]
  },
  {
   "cell_type": "code",
   "execution_count": 90,
   "metadata": {},
   "outputs": [],
   "source": [
    "beta = 0.99\n",
    "gamma = 0.5\n",
    "r_bar = 0.1"
   ]
  },
  {
   "cell_type": "code",
   "execution_count": 91,
   "metadata": {},
   "outputs": [],
   "source": [
    "@njit\n",
    "def q(z):\n",
    "    return 1 + 0.1 * z"
   ]
  },
  {
   "cell_type": "code",
   "execution_count": 92,
   "metadata": {},
   "outputs": [],
   "source": [
    "@njit\n",
    "def u(c):\n",
    "    return c"
   ]
  },
  {
   "cell_type": "code",
   "execution_count": 93,
   "metadata": {},
   "outputs": [],
   "source": [
    "kappa_min, kappa_max = 0.5, 2.0\n",
    "kappa_grid = np.linspace(kappa_min, kappa_max, kappa_size)\n",
    "kappa_prob = np.ones(kappa_size) / kappa_size  # Uniform dist"
   ]
  },
  {
   "cell_type": "code",
   "execution_count": 94,
   "metadata": {},
   "outputs": [],
   "source": [
    "eta_min, eta_max = 0.5, 2.0\n",
    "eta_grid = np.linspace(eta_min, eta_max, eta_size)\n",
    "eta_prob = np.ones(eta_size) / eta_size  # Uniform dist"
   ]
  },
  {
   "cell_type": "markdown",
   "metadata": {},
   "source": [
    "### The Regular Bellman Equation"
   ]
  },
  {
   "cell_type": "code",
   "execution_count": 95,
   "metadata": {},
   "outputs": [],
   "source": [
    "@njit\n",
    "def T(vR, vB, vE):\n",
    "    \n",
    "    vR_new = np.empty_like(vR)\n",
    "    vB_new = np.empty_like(vB)\n",
    "    vE_new = np.empty_like(vE)\n",
    "    \n",
    "    # First update vR\n",
    "    # Here's all the states\n",
    "    for i_d, d in enumerate(d_grid):\n",
    "        for i_z, z in enumerate(z_grid):\n",
    "            for i_eta, η in enumerate(eta_grid):\n",
    "                for i_kappa, κ in enumerate(kappa_grid):\n",
    "                    # For each state, eval RHS of Bellman at all dp and record largest\n",
    "                    current_max = -1e10\n",
    "                    for i_dp, dp in enumerate(d_grid):                        \n",
    "                        # First compute the expectation\n",
    "                        e = 0.0\n",
    "                        for i_zp in range(z_size):\n",
    "                            for i_etap in range(eta_size):\n",
    "                                for i_kappap in range(kappa_size):\n",
    "                                    e += max(vR[i_dp, i_zp, i_etap, i_kappap], vB[i_zp, i_etap]) * P[i_z, i_zp]\n",
    "                        e = e * (1 / eta_size) * (1 / kappa_size)\n",
    "                        candidate = u(dp * q(z) - κ - d + η * z) + beta * e\n",
    "                        if candidate > current_max:\n",
    "                            current_max = candidate\n",
    "                    # Largest recorded is new value\n",
    "                    vR_new[i_d, i_z, i_eta, i_kappa] = current_max\n",
    "                            \n",
    "    # Next update vB\n",
    "    # Here's all the states\n",
    "    for i_z, z in enumerate(z_grid):\n",
    "        for i_eta, η in enumerate(eta_grid):\n",
    "            # Compute the expectation\n",
    "            e = 0.0\n",
    "            for i_zp in range(z_size):\n",
    "                for i_etap in range(eta_size):\n",
    "                    for i_kappap in range(kappa_size):\n",
    "                        e += max(vR[0, i_zp, i_etap, i_kappap], vE[i_zp, i_etap, i_kappap]) * P[i_z, i_zp]\n",
    "            e = e * (1 / eta_size) * (1 / kappa_size)\n",
    "            vB_new[i_z, i_eta] = u((1 - gamma) * z * η) + beta * e\n",
    "            \n",
    "    # Finally, update vE\n",
    "    # Here's all the states\n",
    "    for i_z, z in enumerate(z_grid):\n",
    "        for i_eta, η in enumerate(eta_grid):\n",
    "            for i_kappa, κ in enumerate(kappa_grid):\n",
    "                i_d_hat = np.searchsorted(d_grid, (κ - gamma * z * η) * (1 + r_bar))\n",
    "                # Compute the expectation\n",
    "                e = 0.0\n",
    "                for i_zp in range(z_size):\n",
    "                    for i_etap in range(eta_size):\n",
    "                        for i_kappap in range(kappa_size):\n",
    "                            e += max(vR[i_d_hat, i_zp, i_etap, i_kappap], vB[i_zp, i_etap]) * P[i_z, i_zp]\n",
    "                e = e * (1 / eta_size) * (1 / kappa_size)\n",
    "                vE_new[i_z, i_eta, i_kappa] = u((1 - gamma) * z * η) + beta * e\n",
    "\n",
    "    return vR_new, vB_new, vE_new"
   ]
  },
  {
   "cell_type": "markdown",
   "metadata": {},
   "source": [
    "Let's just check that iteration with the Bellman operator converges."
   ]
  },
  {
   "cell_type": "code",
   "execution_count": 96,
   "metadata": {},
   "outputs": [
    {
     "name": "stdout",
     "output_type": "stream",
     "text": [
      "Terminated at iteration 920 with error 0.0009917886353605354.\n"
     ]
    }
   ],
   "source": [
    "vR = np.ones((d_size, z_size, eta_size, kappa_size))\n",
    "vB = np.ones((z_size, eta_size))\n",
    "vE = np.ones((z_size, eta_size, kappa_size))\n",
    "tol = 0.001\n",
    "iter_max = 10_000\n",
    "eps = tol + 1\n",
    "i = 0\n",
    "\n",
    "while eps > tol and i < iter_max:\n",
    "    vR_new, vB_new, vE_new = T(vR, vB, vE)\n",
    "    eps_R = np.max(np.abs(vR_new - vR))\n",
    "    eps_B = np.max(np.abs(vB_new - vB))\n",
    "    eps_E = np.max(np.abs(vB_new - vB))\n",
    "    eps = max(eps_R, eps_B, eps_E)\n",
    "    vR, vB, vE = vR_new, vB_new, vE_new\n",
    "    i += 1\n",
    "\n",
    "print(f\"Terminated at iteration {i} with error {eps}.\")"
   ]
  },
  {
   "cell_type": "markdown",
   "metadata": {},
   "source": [
    "### The Refactored Bellman Operator"
   ]
  },
  {
   "cell_type": "markdown",
   "metadata": {},
   "source": [
    "After the refactoring, the modified Bellman equations become\n",
    "\n",
    "\\begin{equation*}\n",
    "\tg^{D} (z, d') = \n",
    "\tE_{z', \\eta', \\kappa' \\mid z} \\max \n",
    "\t\\left\\{\n",
    "\t\\max_{c', \\, d''} \n",
    "\t\\left[\n",
    "\tu (c') + \\beta g^{D} (z', d'')\n",
    "\t\\right], \\,\n",
    "\tu (\\tilde{c}) + \\beta g^{E} (z')\n",
    "\t\\right\\}\n",
    "\\end{equation*}\n",
    "\n",
    "subject to\n",
    "\n",
    "$$\n",
    "    c'  =  z' \\eta' + q(z') d'' - d' - \\kappa'\n",
    "    \\quad \\text{and} \\quad\n",
    "    \\tilde{c} = (1 - \\gamma)  z' \\eta'\n",
    "$$\n",
    "\n",
    "and\n",
    "\n",
    "\\begin{equation*}\n",
    "\tg^{E} (z) = \n",
    "\tE_{z', \\eta', \\kappa' \\mid z} \\max \n",
    "\t\\left\\{ \n",
    "\t\\max_{c', \\, d''} \n",
    "\t\\left[\n",
    "\tu (c') + \\beta g^{D} (z', d'')\n",
    "\t\\right], \\,\n",
    "\tu (\\tilde{c}) + \\beta g^{D} (z', \\tilde{d})\n",
    "\t\\right\\}\n",
    "\\end{equation*}\n",
    "\n",
    "subject to \n",
    "\n",
    "$$\n",
    "    c' = z' \\eta' + q(z') d'' - \\kappa' \n",
    "    \\quad \\text{and} \\quad\n",
    "    \\tilde{d} = (\\kappa' - \\gamma z' \\eta') (1 + \\bar{r}).\n",
    "$$\n"
   ]
  },
  {
   "cell_type": "code",
   "execution_count": 97,
   "metadata": {
    "lines_to_next_cell": 2
   },
   "outputs": [],
   "source": [
    "@njit\n",
    "def S(gD, gE):\n",
    "    \n",
    "    gD_new = np.empty_like(gD)\n",
    "    gE_new = np.empty_like(gE)\n",
    "    \n",
    "    # First update gD\n",
    "    # Step through all states:\n",
    "    for i_z, z in enumerate(z_grid):\n",
    "        for i_dp, dp in enumerate(d_grid):\n",
    "            e = 0.0  # Will hold the expectation\n",
    "            for i_zp, zp in enumerate(z_grid):\n",
    "                for i_etap, etap in enumerate(eta_grid):\n",
    "                    for i_kappap, kappap in enumerate(kappa_grid):\n",
    "                        # Compute the max of two terms, L and R (left and right)\n",
    "                        # Start with R\n",
    "                        c_tilde = (1 - gamma) * zp * etap\n",
    "                        R = u(c_tilde) + beta * gE[i_zp]\n",
    "                        # Next, L\n",
    "                        current_max = -1e10\n",
    "                        for i_dpp, dpp in enumerate(d_grid):\n",
    "                            util = u(zp * etap + q(zp) * dpp - dp - kappap)\n",
    "                            m = util + beta * gD[i_zp, i_dpp]\n",
    "                            if m > current_max:\n",
    "                                current_max = m\n",
    "                        L = current_max\n",
    "                        e += max(L, R) * P[i_z, i_zp]\n",
    "            e = e * (1 / eta_size) * (1 / kappa_size)\n",
    "            gD_new[i_z, i_dp] = e\n",
    "                \n",
    "    # Next update gE\n",
    "    # Step through all states:\n",
    "    for i_z, z in enumerate(z_grid):\n",
    "        e = 0.0  # Will hold the expectation\n",
    "        for i_zp, zp in enumerate(z_grid):\n",
    "            for i_etap, etap in enumerate(eta_grid):\n",
    "                for i_kappap, kappap in enumerate(kappa_grid):\n",
    "                    # Compute the max of two terms, L and R (left and right)\n",
    "                    # Start with R\n",
    "                    c_tilde = (1 - gamma) * zp * etap\n",
    "                    i_d_tilde = np.searchsorted(d_grid, (kappap - gamma * zp * etap) * (1 + r_bar))\n",
    "                    R = u(c_tilde) + beta * gD[i_zp, i_d_tilde]\n",
    "                    # Next, L\n",
    "                    current_max = -1e10\n",
    "                    for i_dpp, dpp in enumerate(d_grid):\n",
    "                        util = u(zp * etap + q(zp) * dpp - kappap)\n",
    "                        m = util + beta * gD[i_zp, i_dpp]\n",
    "                        if m > current_max:\n",
    "                            current_max = m\n",
    "                    L = current_max\n",
    "                    e += max(L, R) * P[i_z, i_zp]\n",
    "        e = e * (1 / eta_size) * (1 / kappa_size)\n",
    "        gE_new[i_z] = e\n",
    "                \n",
    "    return gD_new, gE_new"
   ]
  },
  {
   "cell_type": "markdown",
   "metadata": {},
   "source": [
    "Let's check that iteration with $S$ converges."
   ]
  },
  {
   "cell_type": "code",
   "execution_count": 98,
   "metadata": {
    "lines_to_next_cell": 2
   },
   "outputs": [
    {
     "name": "stdout",
     "output_type": "stream",
     "text": [
      "Terminated at iteration 920 with error 0.0009917886361563433.\n"
     ]
    }
   ],
   "source": [
    "gD = np.ones((z_size, d_size))\n",
    "gE = np.ones(z_size)\n",
    "tol = 0.001\n",
    "iter_max = 10_000\n",
    "eps = tol + 1\n",
    "i = 0\n",
    "\n",
    "while eps > tol and i < iter_max:\n",
    "    gD_new, gE_new = S(gD, gE)\n",
    "    eps_D = np.max(np.abs(gD_new - gD))\n",
    "    eps_E = np.max(np.abs(gE_new - gE))\n",
    "    eps = max(eps_D, eps_E)\n",
    "    gD, gE = gD_new, gE_new\n",
    "    i += 1\n",
    "\n",
    "print(f\"Terminated at iteration {i} with error {eps}.\")"
   ]
  },
  {
   "cell_type": "markdown",
   "metadata": {},
   "source": [
    "### Timing\n"
   ]
  },
  {
   "cell_type": "code",
   "execution_count": 99,
   "metadata": {
    "lines_to_next_cell": 2
   },
   "outputs": [],
   "source": [
    "\n",
    "gD = np.ones((z_size, d_size))\n",
    "gE = np.ones(z_size)\n",
    "\n",
    "vR = np.ones((d_size, z_size, eta_size, kappa_size))\n",
    "vB = np.ones((z_size, eta_size))\n",
    "vE = np.ones((z_size, eta_size, kappa_size))\n"
   ]
  },
  {
   "cell_type": "code",
   "execution_count": 100,
   "metadata": {},
   "outputs": [
    {
     "name": "stdout",
     "output_type": "stream",
     "text": [
      "CPU times: user 116 ms, sys: 0 ns, total: 116 ms\n",
      "Wall time: 117 ms\n"
     ]
    }
   ],
   "source": [
    "%%time\n",
    "vR_new, vB_new, vE_new = T(vR, vB, vE)\n"
   ]
  },
  {
   "cell_type": "code",
   "execution_count": 101,
   "metadata": {},
   "outputs": [
    {
     "name": "stdout",
     "output_type": "stream",
     "text": [
      "CPU times: user 1.1 ms, sys: 0 ns, total: 1.1 ms\n",
      "Wall time: 1.11 ms\n"
     ]
    }
   ],
   "source": [
    "%%time\n",
    "gD_new, gE_new = S(gD, gE)\n"
   ]
  },
  {
   "cell_type": "code",
   "execution_count": null,
   "metadata": {},
   "outputs": [],
   "source": []
  },
  {
   "cell_type": "code",
   "execution_count": null,
   "metadata": {},
   "outputs": [],
   "source": []
  }
 ],
 "metadata": {
  "jupytext": {
   "formats": "ipynb,md"
  },
  "kernelspec": {
   "display_name": "Python 3",
   "language": "python",
   "name": "python3"
  },
  "language_info": {
   "codemirror_mode": {
    "name": "ipython",
    "version": 3
   },
   "file_extension": ".py",
   "mimetype": "text/x-python",
   "name": "python",
   "nbconvert_exporter": "python",
   "pygments_lexer": "ipython3",
   "version": "3.7.3"
  }
 },
 "nbformat": 4,
 "nbformat_minor": 2
}
